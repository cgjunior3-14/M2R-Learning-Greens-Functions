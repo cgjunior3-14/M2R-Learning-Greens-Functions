{
 "cells": [
  {
   "cell_type": "code",
   "execution_count": null,
   "id": "ae9b93a8",
   "metadata": {},
   "outputs": [
    {
     "data": {
      "text/plain": [
       "second_derivative (generic function with 1 method)"
      ]
     },
     "metadata": {},
     "output_type": "display_data"
    }
   ],
   "source": [
    "using LinearAlgebra\n",
    "using Plots\n",
    "\n",
    "N = 10\n",
    "x = cos.(π * (0:N) / N) # Nodes\n",
    "\n",
    "# Chebyshev-T polynomial, T_k(x)\n",
    "function T(k, x)\n",
    "    return cos.(k * acos.(x))\n",
    "end\n",
    "\n",
    "# RHS of poisson eqn\n",
    "f(x) = sin(π*x)\n",
    "\n",
    "# Modified basis function so that boundary conds are satisfied\n",
    "function phi_mod(k,x)\n",
    "    return (1-x.^2) .* T(k, x)\n",
    "end\n",
    "\n",
    "# Second derivative via central differences\n",
    "function second_derivative(y, x)\n",
    "    n = length(x)\n",
    "    d2y = zeros(n)\n",
    "    for i in 2:n-1\n",
    "        h1 = x[i] - x[i-1]\n",
    "        h2 = x[i+1] - x[i]\n",
    "        d2y[i] = 2 * ((y[i+1] - y[i]) / h2 - (y[i] - y[i-1]) / h1) / (h1 + h2)\n",
    "    end\n",
    "\n",
    "    d2y[1] = d2y[2]\n",
    "    d2y[end] = d2y[end-1]\n",
    "\n",
    "    return d2y\n",
    "end"
   ]
  },
  {
   "cell_type": "code",
   "execution_count": null,
   "id": "f98dd19a",
   "metadata": {},
   "outputs": [],
   "source": []
  }
 ],
 "metadata": {
  "kernelspec": {
   "display_name": "Julia 1.11.2",
   "language": "julia",
   "name": "julia-1.11"
  },
  "language_info": {
   "file_extension": ".jl",
   "mimetype": "application/julia",
   "name": "julia",
   "version": "1.11.2"
  }
 },
 "nbformat": 4,
 "nbformat_minor": 5
}
