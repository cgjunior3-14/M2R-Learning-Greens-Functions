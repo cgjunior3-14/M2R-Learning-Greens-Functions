{
 "cells": [
  {
   "cell_type": "code",
   "execution_count": null,
   "id": "ae9b93a8",
   "metadata": {},
   "outputs": [
    {
     "ename": "UndefVarError",
     "evalue": "UndefVarError: `grid!` not defined in `Main`\nSuggestion: check for spelling errors or missing imports.",
     "output_type": "error",
     "traceback": [
      "UndefVarError: `grid!` not defined in `Main`\n",
      "Suggestion: check for spelling errors or missing imports.\n",
      "\n",
      "Stacktrace:\n",
      " [1] top-level scope\n",
      "   @ ~/Library/CloudStorage/OneDrive-ImperialCollegeLondon/M2R coding/M2R-Learning-Greens-Functions/jl_notebook_cell_df34fa98e69747e1a8f8a730347b8e2f_W0sZmlsZQ==.jl:64"
     ]
    }
   ],
   "source": [
    "using LinearAlgebra\n",
    "using Plots\n",
    "\n",
    "N = 10\n",
    "x = cos.(π * (0:N) / N) # Nodes\n",
    "\n",
    "# Chebyshev-T polynomial, T_k(x)\n",
    "function T(k, x)\n",
    "    return cos.(k * acos.(x))\n",
    "end\n",
    "\n",
    "# RHS of poisson eqn\n",
    "f(x) = sin(π*x)\n",
    "\n",
    "# Modified basis function so that boundary conds are satisfied\n",
    "function phi_mod(k,x)\n",
    "    return (1 .- x.^2) .* T(k, x)\n",
    "end\n",
    "\n",
    "# Second derivative via central differences\n",
    "function second_derivative(y, x)\n",
    "    n = length(x)\n",
    "    d2y = zeros(n)\n",
    "    for i in 2:n-1\n",
    "        h1 = x[i] - x[i-1]\n",
    "        h2 = x[i+1] - x[i]\n",
    "        d2y[i] = 2 * ((y[i+1] - y[i]) / h2 - (y[i] - y[i-1]) / h1) / (h1 + h2)\n",
    "    end\n",
    "\n",
    "    d2y[1] = d2y[2]\n",
    "    d2y[end] = d2y[end-1]\n",
    "\n",
    "    return d2y\n",
    "end\n",
    "\n",
    "# Assemble linear system Av=b\n",
    "A = zeros(N+1, N+1)\n",
    "b = zeros(N+1)\n",
    "\n",
    "ϕ = [phi_mod(k, x) for k in 0:N]  # modified phi evaluated at the nodes\n",
    "\n",
    "for j in 1:N+1\n",
    "    b[j] = dot([f(a) for a in x], ϕ[j])  # Inner product\n",
    "\n",
    "    # Within j loop start k loop for matrix A\n",
    "    for k in 1:N+1\n",
    "        d2ϕ_k = second_derivative(ϕ[k], x)\n",
    "        A[j, k] = dot(d2ϕ_k, ϕ[j])         # Galerkin matrix entry\n",
    "    end\n",
    "end\n",
    "\n",
    "v = A \\ b\n",
    "\n",
    "# Reconstruct approximate solution on a dense grid\n",
    "x_dense = LinRange(-1, 1, 200)\n",
    "ϕ_dense = [(1 .- x_dense.^2) .* T(k, x_dense) for k in 0:N]\n",
    "u_approx = reduce(+, (v[k+1] .* ϕ_dense[k+1] for k in 0:N))\n",
    "\n",
    "# Plot result\n",
    "plot(x_dense, u_approx, label=\"Galerkin Approx.\", lw=2, grid=true)\n",
    "title!(\"Spectral Galerkin: u'' = sin(πx)\")\n",
    "xlabel!(\"x\")\n",
    "ylabel!(\"u(x)\")\n"
   ]
  },
  {
   "cell_type": "code",
   "execution_count": null,
   "id": "f98dd19a",
   "metadata": {},
   "outputs": [],
   "source": []
  }
 ],
 "metadata": {
  "kernelspec": {
   "display_name": "Julia 1.11.2",
   "language": "julia",
   "name": "julia-1.11"
  },
  "language_info": {
   "file_extension": ".jl",
   "mimetype": "application/julia",
   "name": "julia",
   "version": "1.11.2"
  }
 },
 "nbformat": 4,
 "nbformat_minor": 5
}
