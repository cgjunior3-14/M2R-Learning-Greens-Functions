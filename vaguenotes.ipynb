{
 "cells": [
  {
   "cell_type": "code",
   "execution_count": 1,
   "id": "15f3dbe3",
   "metadata": {},
   "outputs": [
    {
     "data": {
      "text/plain": [
       "g (generic function with 1 method)"
      ]
     },
     "execution_count": 1,
     "metadata": {},
     "output_type": "execute_result"
    }
   ],
   "source": [
    "using QuadGK\n",
    "\n",
    "function K(x, y)\n",
    "    if x ≤ y\n",
    "        return (x+1)*(y-1)/2\n",
    "    else\n",
    "        return (x-1)*(y+1)/2\n",
    "    end\n",
    "end\n",
    "\n",
    "f(y) = - π^2 * sin(π*y)\n",
    "\n",
    "function g(x; a = -1.0, b = 1.0)\n",
    "    I, err = quadgk(y -> K(x,y)*f(y),a,b;)\n",
    "    return I, err\n",
    "end"
   ]
  },
  {
   "cell_type": "code",
   "execution_count": 2,
   "id": "5b49f07b",
   "metadata": {},
   "outputs": [
    {
     "name": "stdout",
     "output_type": "stream",
     "text": [
      "(0.3090169946174209, 1.114749186188757e-9) 0.3090169943749474"
     ]
    }
   ],
   "source": [
    "print(g(0.1),\" \", sin(0.1*π))"
   ]
  },
  {
   "cell_type": "code",
   "execution_count": 3,
   "id": "de3b1b53",
   "metadata": {},
   "outputs": [
    {
     "ename": "LoadError",
     "evalue": "invalid redefinition of constant Main.g",
     "output_type": "error",
     "traceback": [
      "invalid redefinition of constant Main.g",
      "",
      "Stacktrace:",
      " [1] top-level scope",
      "   @ In[3]:7"
     ]
    }
   ],
   "source": [
    "using LinearAlgebra, Test\n",
    "n = 5\n",
    "A(x,y) = cos(x*sin(y))\n",
    "x = range(0, 1, length = n)\n",
    "y = range(0, 1, length = n)\n",
    "V =  [y[j]^k for j = 1:n, k = 0:n-1]\n",
    "g = A.(x,y)\n",
    "c = V \\ g\n",
    "p = x -> dot(c, x .^ (0:n-1))\n",
    "@test p.(y) ≈ V*c"
   ]
  },
  {
   "cell_type": "code",
   "execution_count": null,
   "id": "8d005c57",
   "metadata": {},
   "outputs": [
    {
     "data": {
      "text/plain": [
       "5×5 Matrix{Float64}:\n",
       " 1.0  0.0   0.0     0.0       0.0\n",
       " 1.0  0.25  0.0625  0.015625  0.00390625\n",
       " 1.0  0.5   0.25    0.125     0.0625\n",
       " 1.0  0.75  0.5625  0.421875  0.316406\n",
       " 1.0  1.0   1.0     1.0       1.0"
      ]
     },
     "metadata": {},
     "output_type": "display_data"
    }
   ],
   "source": []
  }
 ],
 "metadata": {
  "kernelspec": {
   "display_name": "Julia 1.11.2",
   "language": "julia",
   "name": "julia-1.11"
  },
  "language_info": {
   "file_extension": ".jl",
   "mimetype": "application/julia",
   "name": "julia",
   "version": "1.11.2"
  }
 },
 "nbformat": 4,
 "nbformat_minor": 5
}
